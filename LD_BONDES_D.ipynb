{
 "cells": [
  {
   "cell_type": "markdown",
   "id": "6a48ef90-b44c-4cff-8c3c-9d2235154680",
   "metadata": {},
   "source": [
    "# Calculos LD_BONDES_D.py"
   ]
  },
  {
   "cell_type": "code",
   "execution_count": 1,
   "id": "c3c7c0af-17ef-4e57-bf2b-524fd5d3fd64",
   "metadata": {
    "tags": []
   },
   "outputs": [
    {
     "name": "stdout",
     "output_type": "stream",
     "text": [
      "99.89937063802932 99.899324\n"
     ]
    },
    {
     "data": {
      "text/plain": [
       "(240530, 99.899324)"
      ]
     },
     "execution_count": 1,
     "metadata": {},
     "output_type": "execute_result"
    }
   ],
   "source": [
    "from LD_BONDES_D import LD_BondesD\n",
    "from datetime import datetime, date , timedelta\n",
    "import pandas as pd\n",
    "import numpy as np \n",
    "\n",
    "def series():\n",
    "    df_vectorInvex = pd.read_excel(\"info_Bonos\\\\20230831_t-1_Vector_LD.xlsx\")\n",
    "    return list(df_vectorInvex['Serie'])\n",
    "\n",
    "def cargarInfoBono(num_serie,archivo = \"info_Bonos\\\\20230831_t-1_Vector_LD.xlsx\"):\n",
    "    df_vectorInvex = pd.read_excel(archivo)\n",
    "    serie = [ x for x in ['Serie','SERIE'] if x in df_vectorInvex.columns ][0]\n",
    "    bono_analizar = df_vectorInvex[df_vectorInvex[serie] == num_serie].reset_index(drop=True)\n",
    "    info_bono_analizar = {}\n",
    "    for key in bono_analizar.columns:\n",
    "        val = bono_analizar.loc[0,key]\n",
    "        info_bono_analizar[key] = val \n",
    "    return info_bono_analizar\n",
    "\n",
    "num_serie = np.random.choice(series())\n",
    "infoBono = cargarInfoBono(num_serie)\n",
    "BonoEnEvaluacion = LD_BondesD(infoBono)\n",
    "\n",
    "\n",
    "Fechas = BonoEnEvaluacion.calcular_fechas_ultimo_cupon()\n",
    "FrecCpn = BonoEnEvaluacion.verInfoBono()['FrecCpn']\n",
    "FechaInteres =  BonoEnEvaluacion.verInfoBono()['TimId']\n",
    "df_tabla_ri = BonoEnEvaluacion.df_tabla_ri\n",
    "tabla_ri = BonoEnEvaluacion.hallar_tabla_ri_fechas(Fechas, df_tabla_ri,FechaInteres,FrecCpn)\n",
    "\n",
    "valor_TCdev = BonoEnEvaluacion.calc_TCdev(tabla_ri) \n",
    "\n",
    "VN = BonoEnEvaluacion.verInfoBono()['ValorNominal']\n",
    "d_calc = BonoEnEvaluacion.calcular_dias_ultimo_cupon() \n",
    "Idev =  BonoEnEvaluacion.calc_Interes(valor_TCdev,d_calc,VN)\n",
    "\n",
    "r = BonoEnEvaluacion.verInfoBono()['TasaDeRendimiento']\n",
    "s = BonoEnEvaluacion.verInfoBono()['Sobretasa'] \n",
    "K_Calc = BonoEnEvaluacion.Num_cupones_por_liquidar()\n",
    "PrecioLimpio_Calc =  BonoEnEvaluacion.calc_Precio_Limpio_preliminar(r,s,valor_TCdev,Idev,d_calc,K_Calc,VN,FrecCpn)\n",
    "\n",
    "\n",
    "rvector = BonoEnEvaluacion.verInfoBono()['TasaDeRendimiento']\n",
    "PrecioLimpioVector = BonoEnEvaluacion.verInfoBono()['PrecioLimpio']\n",
    "\n",
    "print(PrecioLimpio_Calc, PrecioLimpioVector)\n",
    "PrecioLimpio_Calc_final = BonoEnEvaluacion.Precio_Limpio_Ajustado(r,s,valor_TCdev,Idev,d_calc,K_Calc,VN,FrecCpn)\n",
    "\n",
    "\n",
    "\n",
    "\n",
    "BonoEnEvaluacion.verInfoBono()['Serie'], PrecioLimpio_Calc_final"
   ]
  },
  {
   "cell_type": "code",
   "execution_count": 4,
   "id": "e6d40969-d65a-45d4-bf1d-6b9c324a5611",
   "metadata": {
    "tags": []
   },
   "outputs": [
    {
     "data": {
      "text/plain": [
       "99.96702"
      ]
     },
     "execution_count": 4,
     "metadata": {},
     "output_type": "execute_result"
    }
   ],
   "source": []
  },
  {
   "cell_type": "code",
   "execution_count": 2,
   "id": "5febd4c7-c19e-42a7-8feb-e59f376be490",
   "metadata": {
    "tags": []
   },
   "outputs": [
    {
     "data": {
      "text/plain": [
       "99.899324"
      ]
     },
     "execution_count": 2,
     "metadata": {},
     "output_type": "execute_result"
    }
   ],
   "source": [
    "BonoEnEvaluacion.calcPrecioLimpio()"
   ]
  },
  {
   "cell_type": "code",
   "execution_count": 3,
   "id": "7107d6ca-86f1-4f6b-9354-5b3b83b80bdc",
   "metadata": {
    "tags": []
   },
   "outputs": [
    {
     "data": {
      "text/plain": [
       "99.8960555389055"
      ]
     },
     "execution_count": 3,
     "metadata": {},
     "output_type": "execute_result"
    }
   ],
   "source": [
    "BonoEnEvaluacion.modInfoBono({'TasaDeRendimiento':2})\n",
    "BonoEnEvaluacion.calcPrecioLimpio()"
   ]
  },
  {
   "cell_type": "code",
   "execution_count": 5,
   "id": "3a92df66-9639-4721-9969-f0b4c931465d",
   "metadata": {
    "tags": []
   },
   "outputs": [
    {
     "data": {
      "text/plain": [
       "(11.388001148588955,)"
      ]
     },
     "execution_count": 5,
     "metadata": {},
     "output_type": "execute_result"
    }
   ],
   "source": [
    "BonoEnEvaluacion.calc_Rendimiento_Bisecc_preliminar(), "
   ]
  },
  {
   "cell_type": "code",
   "execution_count": null,
   "id": "00b620c7-af81-4b1b-8002-2c916fe92ad1",
   "metadata": {},
   "outputs": [],
   "source": []
  },
  {
   "cell_type": "code",
   "execution_count": 4,
   "id": "fe6ae9ea-265f-438c-984a-a5f9323a2243",
   "metadata": {
    "tags": []
   },
   "outputs": [
    {
     "data": {
      "text/plain": [
       "{'fechasCupon': [datetime.date(2023, 8, 10),\n",
       "  datetime.date(2023, 9, 7),\n",
       "  datetime.date(2023, 10, 5),\n",
       "  datetime.date(2023, 11, 2),\n",
       "  datetime.date(2023, 11, 30),\n",
       "  datetime.date(2023, 12, 28),\n",
       "  datetime.date(2024, 1, 25),\n",
       "  datetime.date(2024, 2, 22),\n",
       "  datetime.date(2024, 3, 21),\n",
       "  datetime.date(2024, 4, 18),\n",
       "  datetime.date(2024, 5, 16),\n",
       "  datetime.date(2024, 6, 13),\n",
       "  datetime.date(2024, 7, 11),\n",
       "  datetime.date(2024, 8, 8),\n",
       "  datetime.date(2024, 9, 5),\n",
       "  datetime.date(2024, 10, 3),\n",
       "  datetime.date(2024, 10, 31),\n",
       "  datetime.date(2024, 11, 28),\n",
       "  datetime.date(2024, 12, 26),\n",
       "  datetime.date(2025, 1, 23),\n",
       "  datetime.date(2025, 2, 20)],\n",
       " 'DiasTranscCpn': 21,\n",
       " 'fechas_ultimo_cupon': [datetime.date(2023, 8, 10),\n",
       "  datetime.date(2023, 8, 11),\n",
       "  datetime.date(2023, 8, 12),\n",
       "  datetime.date(2023, 8, 13),\n",
       "  datetime.date(2023, 8, 14),\n",
       "  datetime.date(2023, 8, 15),\n",
       "  datetime.date(2023, 8, 16),\n",
       "  datetime.date(2023, 8, 17),\n",
       "  datetime.date(2023, 8, 18),\n",
       "  datetime.date(2023, 8, 19),\n",
       "  datetime.date(2023, 8, 20),\n",
       "  datetime.date(2023, 8, 21),\n",
       "  datetime.date(2023, 8, 22),\n",
       "  datetime.date(2023, 8, 23),\n",
       "  datetime.date(2023, 8, 24),\n",
       "  datetime.date(2023, 8, 25),\n",
       "  datetime.date(2023, 8, 26),\n",
       "  datetime.date(2023, 8, 27),\n",
       "  datetime.date(2023, 8, 28),\n",
       "  datetime.date(2023, 8, 29),\n",
       "  datetime.date(2023, 8, 30)],\n",
       " 'hallar_tabla_ri_fechas': {'fechas': [datetime.date(2023, 8, 10),\n",
       "   datetime.date(2023, 8, 11),\n",
       "   datetime.date(2023, 8, 12),\n",
       "   datetime.date(2023, 8, 13),\n",
       "   datetime.date(2023, 8, 14),\n",
       "   datetime.date(2023, 8, 15),\n",
       "   datetime.date(2023, 8, 16),\n",
       "   datetime.date(2023, 8, 17),\n",
       "   datetime.date(2023, 8, 18),\n",
       "   datetime.date(2023, 8, 19),\n",
       "   datetime.date(2023, 8, 20),\n",
       "   datetime.date(2023, 8, 21),\n",
       "   datetime.date(2023, 8, 22),\n",
       "   datetime.date(2023, 8, 23),\n",
       "   datetime.date(2023, 8, 24),\n",
       "   datetime.date(2023, 8, 25),\n",
       "   datetime.date(2023, 8, 26),\n",
       "   datetime.date(2023, 8, 27),\n",
       "   datetime.date(2023, 8, 28),\n",
       "   datetime.date(2023, 8, 29),\n",
       "   datetime.date(2023, 8, 30)],\n",
       "  'df_tabla_ri':           Fecha     ri\n",
       "  0    1998-11-03  30.75\n",
       "  1    1998-11-04  29.20\n",
       "  2    1998-11-05  29.80\n",
       "  3    1998-11-06  31.30\n",
       "  4    1998-11-09  32.90\n",
       "  ...         ...    ...\n",
       "  6258 2023-09-08  11.24\n",
       "  6259 2023-09-11  11.25\n",
       "  6260 2023-09-12  11.25\n",
       "  6261 2023-09-13  11.26\n",
       "  6262 2023-09-14  11.24\n",
       "  \n",
       "  [6263 rows x 2 columns],\n",
       "  'fechaInc': datetime.date(2023, 8, 31),\n",
       "  'FrecCpn': 28,\n",
       "  'ri': [11.26,\n",
       "   11.28,\n",
       "   11.28,\n",
       "   11.28,\n",
       "   11.26,\n",
       "   11.25,\n",
       "   11.25,\n",
       "   11.2,\n",
       "   11.22,\n",
       "   11.22,\n",
       "   11.22,\n",
       "   11.23,\n",
       "   11.25,\n",
       "   11.26,\n",
       "   11.23,\n",
       "   11.25,\n",
       "   11.25,\n",
       "   11.25,\n",
       "   11.23,\n",
       "   11.24,\n",
       "   11.25]}}"
      ]
     },
     "execution_count": 4,
     "metadata": {},
     "output_type": "execute_result"
    }
   ],
   "source": [
    "BonoEnEvaluacion._ValCalBono"
   ]
  }
 ],
 "metadata": {
  "kernelspec": {
   "display_name": "Python 3 (ipykernel)",
   "language": "python",
   "name": "python3"
  },
  "language_info": {
   "codemirror_mode": {
    "name": "ipython",
    "version": 3
   },
   "file_extension": ".py",
   "mimetype": "text/x-python",
   "name": "python",
   "nbconvert_exporter": "python",
   "pygments_lexer": "ipython3",
   "version": "3.11.4"
  }
 },
 "nbformat": 4,
 "nbformat_minor": 5
}
