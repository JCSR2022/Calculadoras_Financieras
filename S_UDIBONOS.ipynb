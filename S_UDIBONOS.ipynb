{
 "cells": [
  {
   "cell_type": "markdown",
   "id": "06ce5ffe-8992-47c7-b904-c949a4bf8732",
   "metadata": {},
   "source": [
    "# Calculos UDIBONOS\n",
    "\n",
    "Los Bonos de Desarrollo del Gobierno Federal denominados en Unidades de Inversión\n",
    "(UDIBONOS) fueron creados en 1996 y son instrumentos de inversión que protegen al\n",
    "tenedor ante cambios inesperados en la tasa de inflación. Los UDIBONOS se colocan a\n",
    "largos plazos y pagan intereses cada seis meses en función de una tasa de interés real fija\n",
    "que se determina en la fecha de emisión del título.\n",
    "\n",
    "- **Valor Nominal (VN):** El valor nominal del bono = 100 UDIS (cien Unidades de Inversión).\n",
    "- **Período de Interés (Nj):** Los títulos devengan intereses en pesos cada seis meses. Esto es, cada 182 días o al plazo que sustituya a éste en caso de días inhábiles (Plazo en días del cupón J).\n",
    "- **Tasa de interés anual del cupón (TC):**  La tasa de interés que pagan estos títulos es fijada por el Gobierno Federal en la emisión de la serie.\n",
    "- **Intereses por pagar al final del periodo J (Ij):** Los intereses se calculan considerando los días efectivamente transcurridos entre las fechas de pago de los mismos, tomando como base años de 360 días, y se liquidan al finalizar cada uno de los períodos de interés.\n",
    "\n",
    "![Imagen](imagenes\\Ij_Bonos_M.png) \n",
    "\n",
    "donde:\n",
    "\n",
    "IJ = Intereses por pagar al final del periodo J\n",
    "\n",
    "TC = Tasa de interés anual del cupón J\n",
    "\n",
    "VN = Valor nominal del título en Unidades de Inversión\n",
    "\n",
    "NJ = Plazo en días del cupón J\n"
   ]
  },
  {
   "cell_type": "markdown",
   "id": "f1e06d1f-2b0a-4da5-8bbc-43fd0c8870da",
   "metadata": {},
   "source": [
    "Conociendo el rendimiento a vencimiento del título, la fórmula general se simplifica\n",
    "enormemente debido a que las tasas rj para descontar los diferentes flujos a valor\n",
    "presente pasan a ser la misma en todos los factores de descuento. Por consiguiente, una\n",
    "vez conocido el rendimiento a vencimiento del título y suponiendo que el plazo en días de\n",
    "todos los cupones es el mismo, la fórmula general se puede expresar de la siguiente\n",
    "forma:\n",
    "\n",
    "![Imagen](imagenes\\PrecioLimpioSimpleUDIBONOS.png)"
   ]
  },
  {
   "cell_type": "code",
   "execution_count": 1,
   "id": "15e7c139-14fb-4bd5-9e51-d93bb97142fe",
   "metadata": {
    "tags": []
   },
   "outputs": [],
   "source": [
    "def calcular_precio_limpio(TC,r,d,K,VN=100):\n",
    "    \n",
    "    def calc_C(TC,VN=100):\n",
    "        return VN*182*TC/360\n",
    "\n",
    "    def calc_R(r):\n",
    "        return r*182/360\n",
    "    \n",
    "    C = calc_C(TC,VN) \n",
    "    R = calc_R(r)\n",
    "    \n",
    "    num1 = 1/R - 1/(R*(1+R)**(K-1))\n",
    "    num2 = VN/((1+R)**(K-1))\n",
    "    den = (1+R)**(1-d/182)\n",
    "    \n",
    "    return (C + C*num1+num2)/den - C*d/182"
   ]
  },
  {
   "cell_type": "markdown",
   "id": "845762a9-d77a-483d-a154-92202e4e71d9",
   "metadata": {},
   "source": [
    "## Prueba\n",
    "\n",
    "![Imagen](imagenes\\ejemploUDIBONOS.png)\n"
   ]
  },
  {
   "cell_type": "code",
   "execution_count": 2,
   "id": "eb7aa204-9b9b-4fdd-9a5c-1ea418422b85",
   "metadata": {
    "tags": []
   },
   "outputs": [
    {
     "name": "stdout",
     "output_type": "stream",
     "text": [
      "Precio limpio: 98.305962 , valor esperado : 98.30596 UDIS\n"
     ]
    }
   ],
   "source": [
    "TC = 0.08\n",
    "r = 0.0825\n",
    "d = 21\n",
    "K =20\n",
    "PrecioLimpio = calcular_precio_limpio(TC,r,d,K)\n",
    "print(f\"Precio limpio: {round(PrecioLimpio,6)} , valor esperado : 98.30596 UDIS\")"
   ]
  },
  {
   "cell_type": "code",
   "execution_count": 3,
   "id": "cba7d6bb-5d3a-4aff-9771-14c42a04165c",
   "metadata": {
    "tags": []
   },
   "outputs": [
    {
     "data": {
      "text/plain": [
       "0.04170833333333333"
      ]
     },
     "execution_count": 3,
     "metadata": {},
     "output_type": "execute_result"
    }
   ],
   "source": [
    "def calc_R(r):\n",
    "    return r*182/360\n",
    "r =0.0825\n",
    "calc_R(r)"
   ]
  },
  {
   "cell_type": "code",
   "execution_count": 4,
   "id": "d0f12689-7034-42db-aef7-10a1ae165721",
   "metadata": {
    "tags": []
   },
   "outputs": [
    {
     "data": {
      "text/plain": [
       "4.044444444444444"
      ]
     },
     "execution_count": 4,
     "metadata": {},
     "output_type": "execute_result"
    }
   ],
   "source": [
    "def calc_C(TC,VN=100):\n",
    "        return VN*182*TC/360\n",
    "TC = 0.08\n",
    "calc_C(TC)"
   ]
  },
  {
   "cell_type": "code",
   "execution_count": 5,
   "id": "4efc370d-fb4e-40bd-accd-07b5f4e9836b",
   "metadata": {
    "tags": []
   },
   "outputs": [
    {
     "name": "stdout",
     "output_type": "stream",
     "text": [
      "Precio Sucio: 98.7726287676972\n"
     ]
    }
   ],
   "source": [
    "def calc_intDev(TC,d, VN=100):\n",
    "    return VN*d*TC/360\n",
    "\n",
    "d = 21\n",
    "TC = 0.08\n",
    "Idev = calc_intDev(TC,d)\n",
    "PrecioSucio = PrecioLimpio+Idev\n",
    "print(f\"Precio Sucio: {PrecioSucio}\")"
   ]
  },
  {
   "cell_type": "code",
   "execution_count": 6,
   "id": "0cf85def-f6f1-49db-82d5-93b28fa1babd",
   "metadata": {
    "tags": []
   },
   "outputs": [],
   "source": [
    "import scipy.optimize as optimize\n",
    "\n",
    "def calc_rendimientoVencimiento(PrecioLimpio,TC,d,K):\n",
    "    \n",
    "    # Definicion de función objetivo que encuentra la tasa de rendimiento\n",
    "    def objetivo(r):\n",
    "        return calcular_precio_limpio(TC,r,d,K) - PrecioLimpio\n",
    "    \n",
    "    # Encontrar la tasa de rendimiento utilizando scipy.optimize.newton\n",
    "    tasa_rendimiento = optimize.newton(objetivo, 0.1)  # Suponemos siempre una tasa inicial del 10%\n",
    "    \n",
    "    return round(tasa_rendimiento,6)\n"
   ]
  },
  {
   "cell_type": "code",
   "execution_count": 7,
   "id": "ae76712f-2e4b-40aa-b03d-75b1e205ac62",
   "metadata": {
    "tags": []
   },
   "outputs": [
    {
     "data": {
      "text/plain": [
       "0.0825"
      ]
     },
     "execution_count": 7,
     "metadata": {},
     "output_type": "execute_result"
    }
   ],
   "source": [
    "PrecioLimpio = calcular_precio_limpio(TC,r,d,K)\n",
    "TC = 0.08\n",
    "d = 21\n",
    "K =20\n",
    "rendimiento = calc_rendimientoVencimiento(PrecioLimpio,TC,d,K)\n",
    "rendimiento"
   ]
  },
  {
   "cell_type": "code",
   "execution_count": 8,
   "id": "ff8b2a03-76a5-45a3-802d-82d49a09f391",
   "metadata": {
    "tags": []
   },
   "outputs": [
    {
     "data": {
      "image/png": "[encoded data removed]",
      "text/plain": [
       "<Figure size 640x480 with 1 Axes>"
      ]
     },
     "metadata": {},
     "output_type": "display_data"
    }
   ],
   "source": [
    "import numpy as np\n",
    "import matplotlib.pyplot as plt  # Asegúrate de importar la biblioteca de gráficos\n",
    "\n",
    "# Crea un array de valores x con un rango de 9 a 12 con paso 0.01\n",
    "x = np.arange(0.07, 0.1, 0.001)\n",
    "\n",
    "\n",
    "# Valores entrada de funcion\n",
    "d = 21\n",
    "K = 20\n",
    "TC = 0.08\n",
    "\n",
    "# Luego, puedes calcular los valores correspondientes de y usando calc_PrecioLimpio\n",
    "y = [calcular_precio_limpio(TC,valor_r,d,K) for valor_r in x]\n",
    "\n",
    "# Finalmente, plotea los datos\n",
    "plt.plot(x, y)\n",
    "plt.xlabel('rendimiento')\n",
    "plt.ylabel('Precio limpio')\n",
    "plt.title('Gráfico de Precio Limpipo en función de rendimiento')\n",
    "plt.show()  # Muestra el gráfico"
   ]
  },
  {
   "cell_type": "code",
   "execution_count": 9,
   "id": "38b5f340-d664-4938-b778-1d2efc91d3fb",
   "metadata": {
    "tags": []
   },
   "outputs": [
    {
     "name": "stdout",
     "output_type": "stream",
     "text": [
      "Precio limpio en pesos: 609.5860758290873\n"
     ]
    }
   ],
   "source": [
    "# Ejemplo1 : https://www.youtube.com/watch?v=Ta9vXrt-cvw\n",
    "# ¿Cómo calcular precio sucio y limpio de los UDIBONOS?\n",
    "\n",
    "TC = 0.052\n",
    "r = 0.056\n",
    "d = 0\n",
    "K = 9\n",
    "\n",
    "UDIS = 6.194162\n",
    "PrecioLimpio = calcular_precio_limpio(TC,r,d,K)\n",
    "print(f\"Precio limpio en pesos: {PrecioLimpio*UDIS}\")  "
   ]
  },
  {
   "cell_type": "code",
   "execution_count": 10,
   "id": "0913c9c1-b9b5-4118-a47a-1b470e947b5b",
   "metadata": {
    "tags": []
   },
   "outputs": [
    {
     "name": "stdout",
     "output_type": "stream",
     "text": [
      "Precio limpio en pesos en UDIS: 99.12628817832423 , VALOR ESPERADO :99.128189\n",
      "Precio Sucio: 99.89920484499089\n"
     ]
    }
   ],
   "source": [
    "# Ejemplo2 : https://www.youtube.com/watch?v=Ta9vXrt-cvw\n",
    "# ¿Cómo calcular precio sucio y limpio de los UDIBONOS?\n",
    "TC = 0.0525\n",
    "r = 0.055\n",
    "d = 50+3\n",
    "K = (1452+50)//182\n",
    "PrecioLimpio = calcular_precio_limpio(TC,r,d,K)\n",
    "\n",
    "Idev = calc_intDev(TC,d)\n",
    "PrecioSucio = PrecioLimpio+Idev\n",
    "\n",
    "print(f\"Precio limpio en pesos en UDIS: {PrecioLimpio} , VALOR ESPERADO :{99.128189}\" )  \n",
    "print(f\"Precio Sucio: {PrecioSucio}\")"
   ]
  },
  {
   "cell_type": "markdown",
   "id": "9c2e4aef-c270-4ec1-bb8e-447c31b8f94d",
   "metadata": {},
   "source": [
    "# Pruebas con vector"
   ]
  },
  {
   "cell_type": "code",
   "execution_count": 1,
   "id": "36430929-15d9-4a10-a1d0-722bbdad915f",
   "metadata": {
    "tags": []
   },
   "outputs": [
    {
     "name": "stdout",
     "output_type": "stream",
     "text": [
      "Serie: 431112\n",
      "PrecioLimpioCalculado =  637.739076, PrecioLimpioVector = 637.739077\n",
      "RendimientoCalculado =  4.665, RendimientoVector = 4.665\n"
     ]
    }
   ],
   "source": [
    "from S_UDIBONOS import UDIBONOS\n",
    "\n",
    "from datetime import datetime, date\n",
    "import pandas as pd\n",
    "import numpy as np \n",
    "\n",
    "def cargarInfoBono(num_serie,archivo = \"info_Bonos\\\\20230831_t-1_Vector_S.xlsx\"):\n",
    "    df_vectorInvex = pd.read_excel(archivo)\n",
    "    serie = [ x for x in ['Serie','SERIE'] if x in df_vectorInvex.columns ][0]\n",
    "    bono_analizar = df_vectorInvex[df_vectorInvex[serie] == num_serie].reset_index(drop=True)\n",
    "    info_bono_analizar = {}\n",
    "    for key in bono_analizar.columns:\n",
    "        val = bono_analizar.loc[0,key]\n",
    "        info_bono_analizar[key] = val \n",
    "    return info_bono_analizar\n",
    "\n",
    "\n",
    "#prueba \n",
    "num_serie = 431112\n",
    "infoBono = cargarInfoBono(num_serie)\n",
    "BonoEnEvaluacion = UDIBONOS(infoBono)\n",
    "\n",
    "print(f\"Serie: {num_serie}\")\n",
    "      \n",
    "PrecioLimpioCalculado = BonoEnEvaluacion.calcPrecioLimpio()\n",
    "PrecioLimpioVector = BonoEnEvaluacion.verInfoBono()['PrecioLimpio']      \n",
    "print(f\"PrecioLimpioCalculado =  {PrecioLimpioCalculado}, PrecioLimpioVector = {PrecioLimpioVector}\")\n",
    "      \n",
    "RendimientoCalculado = BonoEnEvaluacion.calcRendimiento()\n",
    "RendimientoVector =  BonoEnEvaluacion.verInfoBono()['TasaDeRendimiento']\n",
    "print(f\"RendimientoCalculado =  {RendimientoCalculado}, RendimientoVector = {RendimientoVector}\")\n"
   ]
  },
  {
   "cell_type": "code",
   "execution_count": 12,
   "id": "6e3ce3c5-121e-4d0a-b178-8cbd11e614cb",
   "metadata": {
    "tags": []
   },
   "outputs": [
    {
     "name": "stdout",
     "output_type": "stream",
     "text": [
      "3.25\n",
      "2023-08-31 {'PrecioLimpio': 637.739077, 'PrecioLimpioUDIS': 81.45291200265456, 'TasaCupon': 0.0325, 'TasaDeRendimiento': 0.04664999992846821, 'DiasTranscCpn': 84, 'CuponesCobrar': 41}\n"
     ]
    }
   ],
   "source": [
    "# Se pueden verificar calculo de valores\n",
    "# fechas = BonoEnEvaluacion.calcular_fechas_cupon()\n",
    "# dias_ultimo_cupon = BonoEnEvaluacion.calcular_dias_ultimo_cupon()\n",
    "# fechas_DesdeUltimoCupon = BonoEnEvaluacion.calcular_fechas_ultimo_cupon()\n",
    "print(BonoEnEvaluacion.verInfoBono()['TasaCupon'])\n",
    "print(BonoEnEvaluacion.verInfoBono()['TimId'],BonoEnEvaluacion.verCalculos()['PrecioLimpio'])"
   ]
  },
  {
   "cell_type": "markdown",
   "id": "31e2089f-aa83-4d82-811e-3c8d4ca3bdd2",
   "metadata": {},
   "source": [
    "## Revision de todos los bonos en vector"
   ]
  },
  {
   "cell_type": "code",
   "execution_count": 4,
   "id": "854dec3c-717d-425e-913e-5f9bdadc1cb1",
   "metadata": {
    "tags": []
   },
   "outputs": [
    {
     "name": "stdout",
     "output_type": "stream",
     "text": [
      "Serie: 231116, PrecioLimpioCalc=779.230363, PrecioLimpioVec=779.230363, RendimientoCalc=5.74, RendimientoVec=5.74 \n",
      "Serie: 251204, PrecioLimpioCalc=763.688587, PrecioLimpioVec=763.688587, RendimientoCalc=5.655, RendimientoVec=5.655 \n",
      "Serie: 261203, PrecioLimpioCalc=720.706651, PrecioLimpioVec=720.706651, RendimientoCalc=5.67, RendimientoVec=5.67 \n",
      "Serie: 281130, PrecioLimpioCalc=748.447487, PrecioLimpioVec=748.447488, RendimientoCalc=4.95, RendimientoVec=4.95 \n",
      "Serie: 311127, PrecioLimpioCalc=671.990951, PrecioLimpioVec=671.990951, RendimientoCalc=4.83, RendimientoVec=4.83 \n",
      "Serie: 351122, PrecioLimpioCalc=773.016192, PrecioLimpioVec=773.016192, RendimientoCalc=4.635, RendimientoVec=4.635 \n",
      "Serie: 401115, PrecioLimpioCalc=723.399004, PrecioLimpioVec=723.399005, RendimientoCalc=4.64, RendimientoVec=4.64 \n",
      "Serie: 431112, PrecioLimpioCalc=637.739076, PrecioLimpioVec=637.739077, RendimientoCalc=4.665, RendimientoVec=4.665 \n",
      "Serie: 461108, PrecioLimpioCalc=710.579221, PrecioLimpioVec=710.579221, RendimientoCalc=4.65, RendimientoVec=4.65 \n",
      "Serie: 501103, PrecioLimpioCalc=704.283067, PrecioLimpioVec=704.283068, RendimientoCalc=4.65, RendimientoVec=4.65 \n",
      "Todos los calculos coinciden con una exactitud de 1e-06 digitos significativos\n"
     ]
    }
   ],
   "source": [
    "import math\n",
    "\n",
    "def series(archivo =\"info_Bonos\\\\20230831_t-1_Vector_S.xlsx   \"):\n",
    "    df_vectorInvex = pd.read_excel(archivo)\n",
    "    serie = [ x for x in ['Serie','SERIE'] if x in df_vectorInvex.columns][0]\n",
    "    return list(df_vectorInvex[serie])\n",
    "\n",
    "tol = 1e-6\n",
    "Error = False\n",
    "for num_serie in series():\n",
    "    infoBono = cargarInfoBono(num_serie)\n",
    "    BonoEnEvaluacion =  UDIBONOS(infoBono)\n",
    "    PrecioLimpioCalculado = BonoEnEvaluacion.calcPrecioLimpio()\n",
    "    PrecioLimpioVector = BonoEnEvaluacion.verInfoBono()['PrecioLimpio'] \n",
    "    RendimientoCalculado = BonoEnEvaluacion.calcRendimiento()\n",
    "    RendimientoVector =  BonoEnEvaluacion.verInfoBono()['TasaDeRendimiento']\n",
    "    if (not math.isclose(PrecioLimpioCalculado, PrecioLimpioVector, rel_tol=tol, abs_tol=tol) or not math.isclose(RendimientoCalculado, RendimientoVector, rel_tol=tol, abs_tol=tol)):\n",
    "        Error = True\n",
    "    else:\n",
    "        print(f\"Serie: {num_serie}, PrecioLimpioCalc={PrecioLimpioCalculado}, PrecioLimpioVec={PrecioLimpioVector}, RendimientoCalc={RendimientoCalculado}, RendimientoVec={RendimientoVector} \")\n",
    "if not Error:\n",
    "    print(f\"Todos los calculos coinciden con una exactitud de {tol} digitos significativos\")"
   ]
  }
 ],
 "metadata": {
  "kernelspec": {
   "display_name": "Python 3 (ipykernel)",
   "language": "python",
   "name": "python3"
  },
  "language_info": {
   "codemirror_mode": {
    "name": "ipython",
    "version": 3
   },
   "file_extension": ".py",
   "mimetype": "text/x-python",
   "name": "python",
   "nbconvert_exporter": "python",
   "pygments_lexer": "ipython3",
   "version": "3.11.4"
  }
 },
 "nbformat": 4,
 "nbformat_minor": 5
}
