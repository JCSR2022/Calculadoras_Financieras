{
 "cells": [
  {
   "cell_type": "code",
   "execution_count": 11,
   "id": "1523ba36-85a9-47ac-aa62-423a04bff3a0",
   "metadata": {
    "tags": []
   },
   "outputs": [
    {
     "data": {
      "text/plain": [
       "160"
      ]
     },
     "execution_count": 11,
     "metadata": {},
     "output_type": "execute_result"
    }
   ],
   "source": [
    "8*5*4"
   ]
  },
  {
   "cell_type": "markdown",
   "id": "e1ca6f66-b907-4d13-b875-72ff7cc8a3be",
   "metadata": {},
   "source": [
    "# Calculos para evaluacion de CETES\n",
    "\n",
    "Descripción técnica de los certificados de la Tesorería de la Federación\n",
    "\n",
    "https://www.banxico.org.mx/mercados/d/%7B0DE0044F-662D-09D2-C8B3-4F1A8E43655F%7D.pdf\n",
    "\n",
    "**La función calcular_valores_faltantes es utilizada para calcular valores faltantes relacionados con bonos CETES. \n",
    "Los valores requeridos para el cálculo son:**\n",
    "\n",
    "- **Valor Nominal (VN):** El valor nominal del bono, generalmente igual a 10 en el caso de CETES.\n",
    "- **Número de Días (t):** El período en días hasta el vencimiento del bono.\n",
    "- **Tasa de Descuento (b):** La tasa de descuento, que es una tasa anualizada utilizada para calcular el precio del bono.\n",
    "- **Precio (P):** El precio del bono.\n",
    "- **Tasa de Rendimiento (r):** La tasa de rendimiento anualizada del bono.\n",
    "- **Descuento (D):** El valor de descuento del bono.\n",
    "\n",
    "en donde:\n",
    "![Imagen](imagenes\\Precio_CETES.png)\n",
    "\n"
   ]
  },
  {
   "cell_type": "markdown",
   "id": "467f0f4b-fa09-451f-a9bf-45dbfd9a2029",
   "metadata": {},
   "source": [
    "## Para trabajar mas eficiente se crea la clase CETES que hereda las propiedades de la clase Bono.\n",
    "\n",
    "La clase Bonos permite almacenar la informacion del bono en un diccionario llamado \"_infoBono\", el cual tiene como claves los mismos nombres\n",
    "del vector Invex, y sus respectivos valores.\n",
    "\n",
    "Las formulas para encontrar los calculos requeridos son ajustados a la norma"
   ]
  },
  {
   "cell_type": "code",
   "execution_count": 2,
   "id": "425b5a16-3bf0-4f2e-93d0-8de314d9c8c5",
   "metadata": {},
   "outputs": [],
   "source": [
    "from INVEX_calc_Bonos import Bono\n",
    "\n",
    "class CETES(Bono):\n",
    "    \n",
    "    def calcPrecioLimpio(self,r = None,t = None,VN = None):\n",
    "        \"\"\"\n",
    "        Calcula el Precio Limpio de un bono CETES.\n",
    "        Args:\n",
    "            r (float, optional): Tasa de rendimiento. \n",
    "            t (int, optional): El período en días hasta el vencimiento del bono\n",
    "            VN (float, optional): Valor nominal del bono. \n",
    "        Salida:\n",
    "            float: El Precio Limpio calculado.\n",
    "        \"\"\"\n",
    "        dias_año = self.days_year\n",
    "        if not t: t = (self._infoBono['FechaVcto'] - self._infoBono['TimId'] ).days\n",
    "        if not VN: VN = self._infoBono['ValorNominal'] \n",
    "        if not r: r = self._infoBono['TasaDeRendimiento']/100\n",
    "\n",
    "        P = VN / (1 + r * t / dias_año)\n",
    "    \n",
    "        #Se guarada los valores con los que se hizo el calculo\n",
    "        self._ValCalBono['PrecioLimpio'] = {'PrecioLimpio':P,'TasaDeRendimiento':r,\n",
    "                                              'PlazoEmision':t,'ValorNominal':VN}\n",
    "        return P\n",
    "    \n",
    "    def calcPrecioLimpio_TasaDescuento(self,b,t = None,VN = None):\n",
    "        \"\"\"\n",
    "        Calcula el Precio Limpio de un bono CETES usando la tasa de descuento.\n",
    "        Args:\n",
    "            d (float, optional): Tasa de descuento. \n",
    "            t (int, optional): El período en días hasta el vencimiento del bono\n",
    "            VN (float, optional): Valor nominal del bono. \n",
    "        Salida:\n",
    "            float: El Precio Limpio calculado.\n",
    "        \"\"\"\n",
    "        dias_año = self.days_year\n",
    "        if not t: t = (self._infoBono['FechaVcto'] - self._infoBono['TimId'] ).days\n",
    "        if not VN: VN = self._infoBono['ValorNominal']\n",
    "\n",
    "        P = VN / (1 - b * t / dias_año)\n",
    "            \n",
    "    def calcRendimiento(self,P = None,t = None,VN = None):\n",
    "        \"\"\"\n",
    "        Calcula la Tasa de Rendimiento de un bono CETES.\n",
    "        Args:\n",
    "            P (float, optional): Precio Limpio del bono. \n",
    "            t (int, optional): El período en días hasta el vencimiento del bono\n",
    "            VN (float, optional): Valor nominal del bono.\n",
    "        Salida:\n",
    "            float: La Tasa de Rendimiento calculada.\n",
    "        \"\"\"\n",
    "        dias_año = self.days_year\n",
    "        if not t: t = (self._infoBono['FechaVcto'] - self._infoBono['TimId'] ).days\n",
    "        if not VN: VN = self._infoBono['ValorNominal'] \n",
    "        if not P: P =  self._infoBono['PrecioLimpio'] \n",
    "        \n",
    "        r =round(((VN/P-1)*dias_año/t)*100,6)\n",
    "        \n",
    "        #Se guarada los valores con los que se hizo el calculo\n",
    "        self._ValCalBono['PrecioLimpio'] = {'PrecioLimpio':P,'TasaDeRendimiento':r,\n",
    "                                              'PlazoEmision':t,'ValorNominal':VN}\n",
    "        return r\n",
    "    \n",
    "    \n",
    "    def calcTasaDescuento(self,r = None,t = None):\n",
    "        \"\"\"\n",
    "        Calcula la Tasa de Descuento de un bono CETES.\n",
    "        Args:\n",
    "            r (float, optional): Tasa de rendimiento. \n",
    "            t (int, optional): El período en días hasta el vencimiento del bono \n",
    "            VN (float, optional): Valor nominal del bono.\n",
    "        Salida:\n",
    "            float: La Tasa de Descuento calculada.\n",
    "        \"\"\"\n",
    "        dias_año = self.days_year\n",
    "        if not t: t = (self._infoBono['FechaVcto'] - self._infoBono['TimId']).days\n",
    "        if not r: r = self._infoBono['TasaDeRendimiento']/100\n",
    "        \n",
    "        b = r/(1+r*t/dias_año)\n",
    "        \n",
    "                \n",
    "        #Se guarada los valores con los que se hizo el calculo        \n",
    "        self._ValCalBono['TasaDescuento'] = {'TasaDeRendimiento':r,'PlazoEmision':t,\n",
    "                                              'TasaDescuento':b}        \n",
    "        return b\n",
    "    \n",
    "    def calcDescuento(self,P=None,VN = None):\n",
    "        \"\"\"\n",
    "        Calcula el Descuento de un bono CETES.\n",
    "        Args:\n",
    "            P (float, optional): Precio Limpio del bono. \n",
    "            VN (float, optional): Valor nominal del bono. \n",
    "        Salida:\n",
    "            float: El Descuento calculado.\n",
    "        \"\"\"\n",
    "        if not VN: VN = self._infoBono['ValorNominal'] \n",
    "        if not P: P =  self._infoBono['PrecioLimpio'] \n",
    "        \n",
    "        D = VN-P\n",
    "        \n",
    "        #Se guarada los valores con los que se hizo el calculo            \n",
    "        self._ValCalBono['Descuento'] = {'PrecioLimpio':P,'Descuento':D,'ValorNominal':VN}              \n",
    "        return D\n",
    "    \n",
    "    \n",
    "    def calcRendimientoEquivalente(self,Pc,r = None,t = None,):\n",
    "        \"\"\"\n",
    "        A partir del rendimiento de un CETE es posible obtener el rendimiento \n",
    "        implícito (también conocido como Rendimiento en Curva o Rendimiento Equivalente) \n",
    "        del mismo en un diferente plazo a vencimiento de acuerdo a la siguiente fórmula.\n",
    "        \n",
    "        entradas:\n",
    "            r (float) = Tasa de rendimiento original del CETE en decimal.\n",
    "            t (int)= Período en días hasta el vencimiento, con el que se calcula el rendimiento\n",
    "            Pc (int) = Plazo en días que se desea cotizar en Curva\n",
    "        salida:\n",
    "            rc (float)= Rendimiento en curva o Rendimiento Equivalente en decimal.\n",
    "        \"\"\"\n",
    "        dias_año = self.days_year\n",
    "        if not r: r = self._infoBono['TasaDeRendimiento']/100\n",
    "        if not t: t = (self._infoBono['FechaVcto'] - self._infoBono['TimId']).days\n",
    "        \n",
    "        rc = ( (1+r*t/dias_año)**(Pc/t) - 1 ) * dias_año/Pc\n",
    "        #Se guarada los valores con los que se hizo el calculo            \n",
    "        self._ValCalBono['RendimientoEquivalente'] = {'RendimientoEquivalente':rc,\n",
    "                                                      'TasaDeRendimiento':r,'PlazoEmision':t}     \n",
    "        return rc"
   ]
  },
  {
   "cell_type": "markdown",
   "id": "73c984eb-92e9-4a96-a9f1-eb8a6baed41f",
   "metadata": {},
   "source": [
    "## Pruebas"
   ]
  },
  {
   "cell_type": "markdown",
   "id": "181f5399-be56-406c-a20e-d6abe5f05805",
   "metadata": {},
   "source": [
    "### ANEXO 2\n",
    "EJEMPLO PRÁCTICO\n",
    "\n",
    "El 31 de agosto de 2000 un inversionista compra CETES con las siguientes características:\n",
    "\n",
    "Valor Nominal: 10.00 pesos\n",
    "\n",
    "Fecha de Colocación: 31 de agosto de 2000\n",
    "\n",
    "Fecha de Vencimiento: 28 de septiembre de 2000\n",
    "\n",
    "Días por vencer del título: 28 días\n",
    "\n",
    "Supongamos que dicho inversionista adquiere los títulos a un rendimiento anual de\n",
    "15.50%. Para calcular el precio al cual tendrá que liquidar la operación, el inversionista\n",
    "tiene dos opciones: a) calcular el valor presente del principal a través de la tasa de\n",
    "rendimiento y b) calcular el precio a partir de la “tasa de descuento” que proporcione\n",
    "este rendimiento."
   ]
  },
  {
   "cell_type": "code",
   "execution_count": 3,
   "id": "4a0da6a9-9077-4baf-bf8c-e3c08b4ca61a",
   "metadata": {
    "tags": []
   },
   "outputs": [
    {
     "name": "stdout",
     "output_type": "stream",
     "text": [
      "Informacion del Bono: \n",
      "    ValorNominal : 10\n",
      "    TasaDeRendimiento : 15.5\n",
      "    FechaEmision : 2000-08-31\n",
      "    TimId : 2000-08-31\n",
      "    FechaVcto : 2000-09-28\n",
      "    PlazoEmision : 28\n",
      "    PrecioLimpio : 9.8808805\n",
      "\n",
      "Precio Limpio Calculado: 9.880880,  valor esperado: 9.8808805\n",
      "Tasa de descuento calculada: 0.153154 , valor esperado: 15.32%\n",
      "Precio Limpio usando Tasa de descuento: 9.880880,valor esperado: 9.8808805\n"
     ]
    }
   ],
   "source": [
    "from BI_CETES import CETES\n",
    "# ANEXO 2 EJEMPLO PRÁCTICO\n",
    "BonoEnEvaluacion = CETES()\n",
    "BonoEnEvaluacion.modInfoBono({'ValorNominal': \"10\",\n",
    "                              'TasaDeRendimiento':\"15.50\",\n",
    "                              'FechaEmision':\"31/08/2000\", \n",
    "                              'TimId':\"31/08/2000\",\n",
    "                              'FechaVcto':20000928,\n",
    "                              'PlazoEmision':\"28\",\n",
    "                              'PrecioLimpio':9.8808805})\n",
    "\n",
    "\n",
    "print(\"Informacion del Bono: \")\n",
    "for key in BonoEnEvaluacion.verInfoBono().keys(): \n",
    "    print(\"   \",key,\":\" ,BonoEnEvaluacion.verInfoBono()[key])\n",
    "print()\n",
    "\n",
    "\n",
    "P = BonoEnEvaluacion.calcPrecioLimpio()\n",
    "print(f\"Precio Limpio Calculado: {P:.6f},  valor esperado: {BonoEnEvaluacion.verInfoBono()['PrecioLimpio'] }\")\n",
    "\n",
    "b = BonoEnEvaluacion.calcTasaDescuento()\n",
    "print(f\"Tasa de descuento calculada: {b:.6f} , valor esperado: {15.32}%\")\n",
    "\n",
    "P = BonoEnEvaluacion.calcPrecioLimpio_TasaDescuento(b)\n",
    "print(f\"Precio Limpio usando Tasa de descuento: {P:.6f},valor esperado: {BonoEnEvaluacion.verInfoBono()['PrecioLimpio'] }\")"
   ]
  },
  {
   "cell_type": "code",
   "execution_count": 4,
   "id": "4df81936-c00b-4c01-9c37-687822e71346",
   "metadata": {
    "tags": []
   },
   "outputs": [
    {
     "name": "stdout",
     "output_type": "stream",
     "text": [
      "Informacion del bono:  {'ValorNominal': 10, 'TasaDeRendimiento': 5.7823991884352, 'PrecioLimpio': 9.8575}\n",
      "Precio Limpio Calculado: 9.857500,  valor esperado: 9.8575\n",
      "Rendimiento Calculado: 5.782000,  valor esperado: 5.7823991884352\n",
      "rendimiento Calculado: 0.057000 , valor esperado: 0.057\n"
     ]
    }
   ],
   "source": [
    "from BI_CETES import CETES\n",
    "\n",
    "# Ejemplo general\n",
    "# valor_VN, Precio, Tasa_descuento, Num_dias,Tasa_rendimiento , Descuento \n",
    "# [10,9.8575 , 0.057  , 90 ,  0.057823991884352  , 0.1425]\n",
    "\n",
    "BonoEnEvaluacion = CETES({'ValorNominal': \"10\",\n",
    "                              'TasaDeRendimiento':\" 5.7823991884352\",\n",
    "                              'PrecioLimpio':9.8575 })\n",
    "print(\"Informacion del bono: \",BonoEnEvaluacion.verInfoBono())\n",
    "\n",
    "\n",
    "#Datos conocidos:\n",
    "Tasa_descuento = 0.057\n",
    "Num_dias_al_vencimiento = 90\n",
    "\n",
    "# Se puede calcular el precio usando el Num_dias_al_vencimiento ya que no se tienen las fechas,\n",
    "#  no es necesario introducir el rendimiento ya que esta en la informacion del bono:\n",
    "P = BonoEnEvaluacion.calcPrecioLimpio(None,Num_dias_al_vencimiento)\n",
    "print(f\"Precio Limpio Calculado: {P:.6f},  valor esperado: {BonoEnEvaluacion.verInfoBono()['PrecioLimpio'] }\")\n",
    "\n",
    "# O el rendimiento conociendo el precio limpio:\n",
    "r = BonoEnEvaluacion.calcRendimiento(None,Num_dias_al_vencimiento)\n",
    "print(f\"Rendimiento Calculado: {r:.6f},  valor esperado: {BonoEnEvaluacion.verInfoBono()['TasaDeRendimiento'] }\")\n",
    "\n",
    "# Tambien se puede calcularla tasa de descuento aunque esta no pertenece a los valores tipicos del vector INVEX:\n",
    "b = BonoEnEvaluacion.calcTasaDescuento(None,Num_dias_al_vencimiento)\n",
    "print(f\"rendimiento Calculado: {b:.6f} , valor esperado: {Tasa_descuento}\")\n"
   ]
  },
  {
   "cell_type": "markdown",
   "id": "e7a24926-1f61-41a9-8a92-7eaf54e863ae",
   "metadata": {},
   "source": [
    "# Probando con informacion de CETES desde vector"
   ]
  },
  {
   "cell_type": "code",
   "execution_count": 5,
   "id": "9924a71a-43ef-401c-8b39-faa8f1b1c8f7",
   "metadata": {
    "tags": []
   },
   "outputs": [],
   "source": [
    "# Funcion para cargar informacion de CETES desde vector\n",
    "import pandas as pd\n",
    "\n",
    "def cargarInfoBono(num_serie,archivo = \"info_Bonos\\\\20230831_t-1_Vector_BI.xlsx\"):\n",
    "    df_vectorInvex = pd.read_excel(archivo)\n",
    "    bono_analizar = df_vectorInvex[df_vectorInvex['Serie'] == num_serie].reset_index(drop=True)\n",
    "    info_bono_analizar = {}\n",
    "    for key in bono_analizar.columns:\n",
    "        val = bono_analizar.loc[0,key]\n",
    "        info_bono_analizar[key] = val \n",
    "    return info_bono_analizar\n",
    "\n",
    "#Se debe indicar un num_serie\n",
    "InfoBono = cargarInfoBono(240208)"
   ]
  },
  {
   "cell_type": "code",
   "execution_count": 6,
   "id": "ed8ea38e-e791-4a2c-b12f-9c438ee07baf",
   "metadata": {
    "tags": []
   },
   "outputs": [
    {
     "name": "stdout",
     "output_type": "stream",
     "text": [
      "Informacion del Bono Serie: 240111\n",
      "    FechaEmision : 2023-01-12\n",
      "    FechaVcto : 2024-01-11\n",
      "    PlazoEmision : 364\n",
      "    ValorNominal : 10\n",
      "    TasaDeRendimiento : 11.48\n",
      "    PrecioLimpio : 9.593134\n",
      "\n",
      "Resutlados de calculo:\n",
      "   Precio Limpio Calculado:  9.59313387\n",
      "   Rendimiento Calculado:  11.48\n"
     ]
    }
   ],
   "source": [
    "# La clase CETES transforma la informacion del bono para ser analizada\n",
    "from BI_CETES import CETES\n",
    "\n",
    "Serie = 240111\n",
    "infoBono = cargarInfoBono(Serie)\n",
    "BonoEnEvaluacion = CETES(infoBono)\n",
    "\n",
    "print(f\"Informacion del Bono Serie: {Serie}\")\n",
    "for key in ['FechaEmision','FechaVcto', 'PlazoEmision','ValorNominal','TasaDeRendimiento','PrecioLimpio']:\n",
    "    print(\"   \",key,\":\" ,BonoEnEvaluacion.verInfoBono()[key])\n",
    "print(\"\\nResutlados de calculo:\")\n",
    "print(\"   Precio Limpio Calculado: \",BonoEnEvaluacion.calcPrecioLimpio())\n",
    "print(\"   Rendimiento Calculado: \",BonoEnEvaluacion.calcRendimiento())  "
   ]
  },
  {
   "cell_type": "markdown",
   "id": "7436f49b-a4c8-47fa-998b-b58c3309b01a",
   "metadata": {},
   "source": [
    "## Revision de todos los bonos en vector"
   ]
  },
  {
   "cell_type": "code",
   "execution_count": 7,
   "id": "11b44b97-6599-4cae-92ec-42977cd51881",
   "metadata": {
    "tags": []
   },
   "outputs": [
    {
     "name": "stdout",
     "output_type": "stream",
     "text": [
      "Todos los calculos coinciden con una exactitud de 1e-06 digitos significativos\n"
     ]
    }
   ],
   "source": [
    "import pandas as pd\n",
    "import math\n",
    "\n",
    "def series(archivo = \"info_Bonos\\\\20230831_t-1_Vector_BI.xlsx\"):\n",
    "    df_vectorInvex = pd.read_excel(archivo)\n",
    "    serie = [ x for x in ['Serie','SERIE'] if x in df_vectorInvex.columns][0]\n",
    "    return list(df_vectorInvex[serie])\n",
    "\n",
    "tol = 1e-6\n",
    "Error = False\n",
    "for num_serie in series():\n",
    "    infoBono = cargarInfoBono(num_serie)\n",
    "    BonoEnEvaluacion = CETES(infoBono)\n",
    "    PrecioLimpioCalculado = BonoEnEvaluacion.calcPrecioLimpio()\n",
    "    PrecioLimpioVector = BonoEnEvaluacion.verInfoBono()['PrecioLimpio'] \n",
    "    RendimientoCalculado = BonoEnEvaluacion.calcRendimiento()\n",
    "    RendimientoVector =  BonoEnEvaluacion.verInfoBono()['TasaDeRendimiento']\n",
    "    if (not math.isclose(PrecioLimpioCalculado, PrecioLimpioVector, rel_tol=tol, abs_tol=tol) or not math.isclose(RendimientoCalculado, RendimientoVector, rel_tol=tol, abs_tol=tol)):\n",
    "        Error = True\n",
    "        print(f\"Serie: {num_serie}, PrecioLimpioCalculado =  {PrecioLimpioCalculado}, PrecioLimpioVector = {PrecioLimpioVector},RendimientoCalculado =  {RendimientoCalculado}, RendimientoVector = {RendimientoVector} \")\n",
    "        \n",
    "if not Error:\n",
    "    print(f\"Todos los calculos coinciden con una exactitud de {tol} digitos significativos\")"
   ]
  },
  {
   "cell_type": "markdown",
   "id": "189c2946-703b-448e-9c0b-02ea8c11181e",
   "metadata": {},
   "source": [
    "## Calculos de Regresos"
   ]
  },
  {
   "cell_type": "code",
   "execution_count": 8,
   "id": "2ee5ee07-f9de-4941-a4c0-e9b0b8d45b6c",
   "metadata": {
    "tags": []
   },
   "outputs": [
    {
     "name": "stdout",
     "output_type": "stream",
     "text": [
      "Help on method CalcRegresos in module BI_CETES:\n",
      "\n",
      "CalcRegresos(TasaReporto, plazoReporto, PrecioSucio=None, r=None, t=None, VN=None) method of BI_CETES.CETES instance\n",
      "    Calculos para regresos, calcula el valor futuro del precio del CETE con la tasa de reporto \n",
      "    y por el lapso del prestamo a reporto.\n",
      "    Entradas : \n",
      "        - TasaReporto (float): Tasa de reporto en %\n",
      "        - plazoReporto (int): Cantidad de dias del prestamo a reporto\n",
      "        - PrecioSucio (float, optional): Se toma de la informacion de Bono\n",
      "                                (En caso de CETES es el mismo precio limpio)\n",
      "        - Rendimiento (float, optional): rendimiento anual esperado por el inversionista en %.\n",
      "        - t (int, optional): El período en días hasta el vencimiento del bono\n",
      "        - VN (float, optional): Valor nominal del bono.\n",
      "\n"
     ]
    }
   ],
   "source": [
    "help(BonoEnEvaluacion.CalcRegresos)"
   ]
  },
  {
   "cell_type": "code",
   "execution_count": 9,
   "id": "3f8c20e4-7f13-4ae6-b3f3-36248c821f81",
   "metadata": {
    "tags": []
   },
   "outputs": [
    {
     "name": "stdout",
     "output_type": "stream",
     "text": [
      "PrecioLimpioCalculado =  9.59313387, PrecioLimpioVector = 9.593134,RendimientoCalculado =  11.48, RendimientoVector = 11.48 \n",
      "\n",
      "Precio de regreso: 9.623154736227466\n",
      "Tasa regreso: 10.6\n"
     ]
    }
   ],
   "source": [
    "from datetime import  timedelta,datetime\n",
    "from BI_CETES import CETES\n",
    "import pandas as pd\n",
    "\n",
    "def cargarInfoBono(num_serie,archivo = \"info_Bonos\\\\20230831_t-1_Vector_BI.xlsx \"):\n",
    "    df_vectorInvex = pd.read_excel(archivo)\n",
    "    bono_analizar = df_vectorInvex[df_vectorInvex['Serie'] == num_serie].reset_index(drop=True)\n",
    "    info_bono_analizar = {}\n",
    "    for key in bono_analizar.columns:\n",
    "        val = bono_analizar.loc[0,key]\n",
    "        info_bono_analizar[key] = val \n",
    "    return info_bono_analizar\n",
    "\n",
    "#Cargando informacion del Bono\n",
    "Serie = 240111\n",
    "infoBono = cargarInfoBono(Serie)\n",
    "BonoEnEvaluacion = CETES(infoBono)\n",
    "\n",
    "#Datos para calculo de regreso\n",
    "TasaReporto = 11.25\n",
    "plazoReporto = 10\n",
    "\n",
    "PrecioLimpioCalculado = BonoEnEvaluacion.calcPrecioLimpio()\n",
    "PrecioLimpioVector = BonoEnEvaluacion.verInfoBono()['PrecioLimpio'] \n",
    "RendimientoCalculado = BonoEnEvaluacion.calcRendimiento()\n",
    "RendimientoVector =  BonoEnEvaluacion.verInfoBono()['TasaDeRendimiento']\n",
    "\n",
    "print(f\"PrecioLimpioCalculado =  {PrecioLimpioCalculado}, PrecioLimpioVector = {PrecioLimpioVector},RendimientoCalculado =  {RendimientoCalculado}, RendimientoVector = {RendimientoVector} \")\n",
    "print()\n",
    "PrecioRegreso = BonoEnEvaluacion.CalcRegresos(TasaReporto, plazoReporto)\n",
    "print(f\"Precio de regreso: {PrecioRegreso}\" )\n",
    "RendimientoRegreso = BonoEnEvaluacion.calcRendimiento(PrecioRegreso)\n",
    "print(f\"Tasa regreso: {RendimientoRegreso}\" )"
   ]
  },
  {
   "cell_type": "markdown",
   "id": "73897ff8-3578-4c42-872e-5fe9e54576e3",
   "metadata": {},
   "source": [
    "## DETERMINACIÓN DEL RENDIMIENTO EN CURVA O TASA EQUIVALENTE\n",
    "### Tomado de anexo 3 LS_BPAG182\n",
    "\n",
    "A partir del rendimiento de un CETE es posible obtener el rendimiento implícito (también\n",
    "conocido como Rendimiento en Curva o Rendimiento Equivalente) del mismo en un\n",
    "diferente plazo a vencimiento de acuerdo a la siguiente fórmula:\n",
    "\n",
    "![Imagen](imagenes\\CETES_TASA_EQUIVALENTE.png)\n",
    "\n",
    "donde:\n",
    "\n",
    "rc = Rendimiento en curva\n",
    "\n",
    "r = Tasa de rendimiento original del CETE\n",
    "\n",
    "p = Plazo original en días del CETE\n",
    "\n",
    "pC = Plazo en días que se desea cotizar en Curva\n"
   ]
  },
  {
   "cell_type": "code",
   "execution_count": 10,
   "id": "4aa2c6b2-0e2d-4e8d-a17b-9c6a636d285e",
   "metadata": {
    "tags": []
   },
   "outputs": [
    {
     "name": "stdout",
     "output_type": "stream",
     "text": [
      "Rendimiento en curva =  14.0903\n"
     ]
    }
   ],
   "source": [
    "from BI_CETES import CETES\n",
    "\n",
    "# EJEMPLO PRÁCTICO\n",
    "BonoEnEvaluacion = CETES()\n",
    "Pc = 91\n",
    "r = 0.1392\n",
    "t = 28 \n",
    "rc = BonoEnEvaluacion.calcRendimientoEquivalente(Pc,r,t)\n",
    "print(\"Rendimiento en curva = \", round(rc*100,4))"
   ]
  }
 ],
 "metadata": {
  "kernelspec": {
   "display_name": "Python 3 (ipykernel)",
   "language": "python",
   "name": "python3"
  },
  "language_info": {
   "codemirror_mode": {
    "name": "ipython",
    "version": 3
   },
   "file_extension": ".py",
   "mimetype": "text/x-python",
   "name": "python",
   "nbconvert_exporter": "python",
   "pygments_lexer": "ipython3",
   "version": "3.11.4"
  }
 },
 "nbformat": 4,
 "nbformat_minor": 5
}
